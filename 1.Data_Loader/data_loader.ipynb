{
 "cells": [
  {
   "cell_type": "markdown",
   "metadata": {},
   "source": [
    "## Data Loading\n",
    "### Data Loading은 DataSet과 DataLoader로 이루어져 있음\n",
    "### 해당 code에서는 DataSet에 관련해서 다룸"
   ]
  },
  {
   "cell_type": "code",
   "execution_count": 1,
   "metadata": {},
   "outputs": [],
   "source": [
    "import os\n",
    "import cv2 as cv\n",
    "import numpy as np\n",
    "import glob\n",
    "import torch\n",
    "from torch.utils import data\n",
    "from PIL import Image"
   ]
  },
  {
   "cell_type": "markdown",
   "metadata": {},
   "source": [
    "dataset은 torch.utils.data.Dataset을 상속받아 구현"
   ]
  },
  {
   "cell_type": "code",
   "execution_count": 3,
   "metadata": {},
   "outputs": [],
   "source": [
    "class DataSet(data.Dataset):\n",
    "    def __init__(self, data_root, split = 'train'):\n",
    "        '''\n",
    "        data_root : root path to data Image ex. cityscapes/ or kitti/ ...\n",
    "        split : train or validation split directory \n",
    "        ex. cityscapes/train cityscapes/val\n",
    "        '''\n",
    "        self.root = data_root\n",
    "        self.split = split\n",
    "        \n",
    "        self.image_path = os.path.join(self.root, self.split) #join -> args들이 string으로 들어오면 해당 string을 path 형식으로 바꿔줌\n",
    "                                                              #join('kitti', 'train') -> kitti/train\n",
    "        self.left_files = glob.glob(self.image_path + \"/*.png\") #glob.glob -> 해당 path에 있는 파일의 정보를 모아둠 !!이미지를 가져오는건 아님!!\n",
    "        assert len(self.files) is not 0, f'There are no images in path {self.image_path}'\n",
    "        \n",
    "        # Augmentation\n",
    "        #self.transform = \n",
    "        \n",
    "    def __len__(self):\n",
    "        return len(self.files)\n",
    "    \n",
    "    def __getitem__(self):\n",
    "        pass"
   ]
  },
  {
   "cell_type": "code",
   "execution_count": 9,
   "metadata": {},
   "outputs": [],
   "source": [
    "dataset = DataSet(data_root = '../images/kitti_images')"
   ]
  },
  {
   "cell_type": "code",
   "execution_count": 10,
   "metadata": {},
   "outputs": [
    {
     "data": {
      "text/plain": [
       "['../images/kitti_images/train/image_1_left.png',\n",
       " '../images/kitti_images/train/image_0_left.png',\n",
       " '../images/kitti_images/train/image_0_right.png',\n",
       " '../images/kitti_images/train/image_1_right.png']"
      ]
     },
     "execution_count": 10,
     "metadata": {},
     "output_type": "execute_result"
    }
   ],
   "source": [
    "dataset.files"
   ]
  },
  {
   "cell_type": "code",
   "execution_count": null,
   "metadata": {},
   "outputs": [],
   "source": []
  }
 ],
 "metadata": {
  "interpreter": {
   "hash": "a82ec9c67520d8d8366367003340c67b1755b8f934fa1115298f141d8d2f8979"
  },
  "kernelspec": {
   "display_name": "Python 3.7.9 64-bit ('pyml': conda)",
   "language": "python",
   "name": "python3"
  },
  "language_info": {
   "codemirror_mode": {
    "name": "ipython",
    "version": 3
   },
   "file_extension": ".py",
   "mimetype": "text/x-python",
   "name": "python",
   "nbconvert_exporter": "python",
   "pygments_lexer": "ipython3",
   "version": "3.7.9"
  },
  "orig_nbformat": 4
 },
 "nbformat": 4,
 "nbformat_minor": 2
}
