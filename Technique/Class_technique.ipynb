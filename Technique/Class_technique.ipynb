{
 "cells": [
  {
   "cell_type": "markdown",
   "metadata": {},
   "source": [
    "## Code Technique중 Class에서 잘 써먹을 수 있는 기술들!\n",
    "### 알아가는대로 업데이트"
   ]
  },
  {
   "cell_type": "markdown",
   "metadata": {},
   "source": [
    "kwargs & args:  \n",
    "    name:value 식으로 arg값에 name이 정해져 있는 args를 kwargs라고 함  \n",
    "    value만 띡 넘기는건 args라고 함  \n",
    "      \n",
    "    kwargs일 경우 class에서 재미있는 것을 할 수 있음  \n",
    "      \n",
    "    class의 기본 attribute인 __dict__ 를 사용!  \n",
    "    __dict__는 우리가 class에 self. ~ 로 선언한 attribute를 dictionary 형태로 알아서 저장 해놓음  \n",
    "    그렇다면 kwargs로 이 dict에 self. ~ 를 만들 수 없을까?"
   ]
  },
  {
   "cell_type": "code",
   "execution_count": 1,
   "metadata": {},
   "outputs": [],
   "source": [
    "class LRScheduler:\n",
    "    def __init__(self, name, lr, iters_per_epoch, total_epochs, **kwargs):\n",
    "        self.lr = lr\n",
    "        self.iters_per_epoch = iters_per_epoch\n",
    "        self.total_epochs = total_epochs\n",
    "        self.total_iters = iters_per_epoch * total_epochs\n",
    "        \n",
    "        #!----------------- 재미있는 부분\n",
    "        self.__dict__.update(kwargs)\n",
    "        #!-----------------"
   ]
  },
  {
   "cell_type": "code",
   "execution_count": 2,
   "metadata": {},
   "outputs": [],
   "source": [
    "\n",
    "scheduler = LRScheduler(\n",
    "        name = 'name',\n",
    "        lr = 0.001,\n",
    "        iters_per_epoch= 100,\n",
    "        total_epochs=300\n",
    ")"
   ]
  },
  {
   "cell_type": "code",
   "execution_count": 4,
   "metadata": {},
   "outputs": [
    {
     "data": {
      "text/plain": [
       "{'lr': 0.001,\n",
       " 'iters_per_epoch': 100,\n",
       " 'total_epochs': 300,\n",
       " 'total_iters': 30000}"
      ]
     },
     "execution_count": 4,
     "metadata": {},
     "output_type": "execute_result"
    }
   ],
   "source": [
    "scheduler.__dict__"
   ]
  },
  {
   "cell_type": "markdown",
   "metadata": {},
   "source": [
    "우선은 kwargs에 아무것도 주지 않은 상태!  \n",
    "__dict__ 안에 보면 self로 선언되어있는 친구들이 dict 형식으로 저장되어 있다.  "
   ]
  },
  {
   "cell_type": "code",
   "execution_count": 5,
   "metadata": {},
   "outputs": [],
   "source": [
    "scheduler2 = LRScheduler(\n",
    "    name = \"name\",\n",
    "    lr = 0.001,\n",
    "    iters_per_epoch= 100,\n",
    "    total_epochs = 300,\n",
    "    optimizer = 'optimizer',\n",
    "    new_value = 999\n",
    ")"
   ]
  },
  {
   "cell_type": "code",
   "execution_count": 8,
   "metadata": {},
   "outputs": [
    {
     "data": {
      "text/plain": [
       "{'lr': 0.001,\n",
       " 'iters_per_epoch': 100,\n",
       " 'total_epochs': 300,\n",
       " 'total_iters': 30000,\n",
       " 'optimizer': 'optimizer',\n",
       " 'new_value': 999}"
      ]
     },
     "execution_count": 8,
     "metadata": {},
     "output_type": "execute_result"
    }
   ],
   "source": [
    "scheduler2.__dict__"
   ]
  },
  {
   "cell_type": "code",
   "execution_count": 9,
   "metadata": {},
   "outputs": [
    {
     "data": {
      "text/plain": [
       "999"
      ]
     },
     "execution_count": 9,
     "metadata": {},
     "output_type": "execute_result"
    }
   ],
   "source": [
    "scheduler2.new_value"
   ]
  },
  {
   "cell_type": "markdown",
   "metadata": {},
   "source": [
    "kwargs로 넘긴 optimizer, new_value에 대한 attribute가 생성되어져 있다!  \n",
    "물론 class 내 method로 self.new_value 역시 호출 가능"
   ]
  }
 ],
 "metadata": {
  "interpreter": {
   "hash": "a82ec9c67520d8d8366367003340c67b1755b8f934fa1115298f141d8d2f8979"
  },
  "kernelspec": {
   "display_name": "Python 3.7.9 64-bit ('pyml': conda)",
   "language": "python",
   "name": "python3"
  },
  "language_info": {
   "codemirror_mode": {
    "name": "ipython",
    "version": 3
   },
   "file_extension": ".py",
   "mimetype": "text/x-python",
   "name": "python",
   "nbconvert_exporter": "python",
   "pygments_lexer": "ipython3",
   "version": "3.7.9"
  },
  "orig_nbformat": 4
 },
 "nbformat": 4,
 "nbformat_minor": 2
}
