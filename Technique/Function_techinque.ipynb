{
 "cells": [
  {
   "cell_type": "markdown",
   "metadata": {},
   "source": [
    "## python 기본 library인 functools 에 있는 partial 이라는 method를 알아보자  \n",
    "partial은 function에 여러 args들이 요구될 때, 몇개는 미리 값을 넣어두고 변화하는 하나의 값만을 사용하여 Function call을 하는 것을 도와준다.  \n",
    "무슨소리인지 모르겠지만 아래 code를 보면 이해 가능  "
   ]
  },
  {
   "cell_type": "markdown",
   "metadata": {},
   "source": [
    "만드려고 하는 함수는 덧셈을 무조건 어떤 값 n 에다가 해서 값을 내보내는 function이다.  \n",
    "굳이 이런 것을 왜 하나 싶지만 그냥 이해를 위한 단순한 function이기 때문이고, 활용만 잘한다면 엄청나게 깔끔한 코드 및 노가다를 방지할 수 있다.  "
   ]
  },
  {
   "cell_type": "code",
   "execution_count": 3,
   "metadata": {},
   "outputs": [],
   "source": [
    "def add_mul(mode, *args):\n",
    "    if mode == 'add':\n",
    "        result = 0\n",
    "        for i in args:\n",
    "            result += i\n",
    "        return result\n",
    "    \n",
    "    elif mode == 'mul':\n",
    "        result = 1\n",
    "        for i in args:\n",
    "            result = result * i\n",
    "        return result\n",
    "    else:\n",
    "        raise ValueError(\"wrong mode input. only 'add' or 'mul'\")"
   ]
  },
  {
   "cell_type": "code",
   "execution_count": 7,
   "metadata": {},
   "outputs": [
    {
     "data": {
      "text/plain": [
       "10"
      ]
     },
     "execution_count": 7,
     "metadata": {},
     "output_type": "execute_result"
    }
   ],
   "source": [
    "add_value = add_mul('add', 1,2,3,4)\n",
    "add_value"
   ]
  },
  {
   "cell_type": "markdown",
   "metadata": {},
   "source": [
    "기본적으로 사용하는 식으로는 위처럼 사용한다. 1,2,3,4가 function의 args로 넘어가면서 list 형식으로 넘어간다.  \n",
    "args = list of values [1,2,3,4]  \n",
    "이런 식으로 넘어간 것!  "
   ]
  },
  {
   "cell_type": "markdown",
   "metadata": {},
   "source": [
    "function에 무조건 어떤 값을 넘겨놓고, 추가로 어떤 값을 넘기면서 call 하고 싶을 땐 어떨까?  \n",
    "예를 들어, lr_scheduler에서 기본 max_iter나 max_epoch이나 변하지 않는 값은 function을 선언할 때 미리 넣어두고,  \n",
    "현재 iter만을 넘겨서 lr_scheduling을 하고 싶은 경우가 있다.  \n",
    "그런거 미리 function에 선언해두면 되지 않냐 싶지만 experiment가 계속 변경되면서 max_epoch도 바뀌고 그럴텐데, 그럴 때마다 함수 찾아들어가서 바꿀건가 ..?  \n",
    "  \n",
    "우선은 위의 코드로 미리 넣어두고 추가의 값들을 넘기면서 어떤 식으로 되는지 보자"
   ]
  },
  {
   "cell_type": "code",
   "execution_count": 9,
   "metadata": {},
   "outputs": [
    {
     "data": {
      "text/plain": [
       "110"
      ]
     },
     "execution_count": 9,
     "metadata": {},
     "output_type": "execute_result"
    }
   ],
   "source": [
    "from functools import partial\n",
    "add_mul_function = partial(add_mul, 'add', 100)\n",
    "add_value = add_mul_function(1,2,3,4)\n",
    "\n",
    "add_value"
   ]
  },
  {
   "cell_type": "markdown",
   "metadata": {},
   "source": [
    "add_mul_function 이라는 Function을 partial 을 이용해서 기존의 add_mul function에 미리 add와 100이라는 값을 주고,  \n",
    "그 함수에 1,2,3,4 라는 값을 넘겨서 110이라는 값을 주었다.  \n",
    "'add', 100은 add_mul_function을 사용할 때마다 항상 미리 들어가 있는 값들이고, 거기에 내가 추가로 1, 2, 3, 4 라는 값을 주는 것!  "
   ]
  }
 ],
 "metadata": {
  "interpreter": {
   "hash": "a82ec9c67520d8d8366367003340c67b1755b8f934fa1115298f141d8d2f8979"
  },
  "kernelspec": {
   "display_name": "Python 3.7.9 64-bit ('pyml': conda)",
   "language": "python",
   "name": "python3"
  },
  "language_info": {
   "codemirror_mode": {
    "name": "ipython",
    "version": 3
   },
   "file_extension": ".py",
   "mimetype": "text/x-python",
   "name": "python",
   "nbconvert_exporter": "python",
   "pygments_lexer": "ipython3",
   "version": "3.7.9"
  },
  "orig_nbformat": 4
 },
 "nbformat": 4,
 "nbformat_minor": 2
}
