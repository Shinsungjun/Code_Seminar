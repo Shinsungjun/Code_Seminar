{
 "cells": [
  {
   "cell_type": "markdown",
   "metadata": {},
   "source": [
    "##torch.nn.functional.grid_sample 의 작동 방식"
   ]
  },
  {
   "cell_type": "code",
   "execution_count": 1,
   "metadata": {},
   "outputs": [],
   "source": [
    "import torch\n",
    "import torch.nn as nn\n",
    "import torch.nn.functional as F"
   ]
  },
  {
   "cell_type": "markdown",
   "metadata": {},
   "source": [
    "grid_sample에는 source가 될 tensor [B, C, H, W] 와 warping을 위해 필요한 grid (어떻게 source image에서 가져올 것인지에 대한 값) 이 필요하다  \n",
    "source tensor를 다음과 같이 정의해보자"
   ]
  },
  {
   "cell_type": "code",
   "execution_count": 104,
   "metadata": {},
   "outputs": [
    {
     "name": "stdout",
     "output_type": "stream",
     "text": [
      "tensor([[[[1, 2, 3],\n",
      "          [4, 5, 6],\n",
      "          [7, 8, 9]]]])\n",
      "torch.Size([1, 1, 3, 3])\n"
     ]
    }
   ],
   "source": [
    "#source tensor -> temp_input\n",
    "temp_input = torch.tensor([[1, 2, 3],[4, 5, 6], [7, 8, 9]])\n",
    "temp_input = temp_input.reshape(1, 1, 3, 3)\n",
    "print(temp_input)\n",
    "print(temp_input.shape)"
   ]
  },
  {
   "cell_type": "markdown",
   "metadata": {},
   "source": [
    "grid는 [B, H, W, 2] 의 shape을 갖게 되고, 2는 x, y를 나타낸다 [B, H, W, xy]  \n",
    "grid의 값은 -1 ~ 1의 값을 가질 수 있고, -1인 경우 tensor의 x는 left, y는 top, 1인 경우 x는 right,  y는 bottom을 의미한다"
   ]
  },
  {
   "cell_type": "code",
   "execution_count": 92,
   "metadata": {},
   "outputs": [],
   "source": [
    "grid = torch.ones((1,3,3,2))"
   ]
  },
  {
   "cell_type": "code",
   "execution_count": 93,
   "metadata": {},
   "outputs": [
    {
     "data": {
      "text/plain": [
       "tensor([[[[1., 1.],\n",
       "          [1., 1.],\n",
       "          [1., 1.]],\n",
       "\n",
       "         [[1., 1.],\n",
       "          [1., 1.],\n",
       "          [1., 1.]],\n",
       "\n",
       "         [[1., 1.],\n",
       "          [1., 1.],\n",
       "          [1., 1.]]]])"
      ]
     },
     "execution_count": 93,
     "metadata": {},
     "output_type": "execute_result"
    }
   ],
   "source": [
    "grid"
   ]
  },
  {
   "cell_type": "markdown",
   "metadata": {},
   "source": [
    "현재 모든 grid의 1이므로 값이 x는 가장 right, y는 가장 bottom 에 있는 값을 가져오라는 의미를 가진 grid가 생성되었다"
   ]
  },
  {
   "cell_type": "code",
   "execution_count": 80,
   "metadata": {},
   "outputs": [
    {
     "data": {
      "text/plain": [
       "tensor([[[[1, 2, 3],\n",
       "          [4, 5, 6],\n",
       "          [7, 8, 9]]]])"
      ]
     },
     "execution_count": 80,
     "metadata": {},
     "output_type": "execute_result"
    }
   ],
   "source": [
    "temp_input"
   ]
  },
  {
   "cell_type": "markdown",
   "metadata": {},
   "source": [
    "temp_input에서의 가장 right bottom에 있는 값은 9이다"
   ]
  },
  {
   "cell_type": "code",
   "execution_count": 94,
   "metadata": {},
   "outputs": [],
   "source": [
    "warp = F.grid_sample(temp_input.float(), grid, align_corners=True)"
   ]
  },
  {
   "cell_type": "code",
   "execution_count": 95,
   "metadata": {},
   "outputs": [
    {
     "data": {
      "text/plain": [
       "tensor([[[[9., 9., 9.],\n",
       "          [9., 9., 9.],\n",
       "          [9., 9., 9.]]]])"
      ]
     },
     "execution_count": 95,
     "metadata": {},
     "output_type": "execute_result"
    }
   ],
   "source": [
    "warp"
   ]
  },
  {
   "cell_type": "markdown",
   "metadata": {},
   "source": [
    "warpping된 값이 모두 9의 값으로 채워진 것을 알 수 있다  \n",
    "반대로 모두 -1의 값을 갖는다면, 각 자리에서 모두 source의 left top의 값을 가져오게 되니 모든 값이 1의 값을 갖는다"
   ]
  },
  {
   "cell_type": "code",
   "execution_count": 96,
   "metadata": {},
   "outputs": [
    {
     "name": "stdout",
     "output_type": "stream",
     "text": [
      "tensor([[[[1., 1., 1.],\n",
      "          [1., 1., 1.],\n",
      "          [1., 1., 1.]]]])\n"
     ]
    }
   ],
   "source": [
    "grid[...] = -1\n",
    "warp = F.grid_sample(temp_input.float(), grid, align_corners=True)\n",
    "print(warp)"
   ]
  },
  {
   "cell_type": "markdown",
   "metadata": {},
   "source": [
    "## n차원의 경우  \n",
    "n차원의 경우, 사진을 생각해보면 3 channel이 되고 각 x,y자리마다 3개의 값을 가지고 있게 된다  \n",
    "이 3개의 값이 하나가 된다고 생각하고 x, y 만 고려해서 해당 값들이 모두 자리를 찾아간다  \n",
    "다음의 3D tensor를 만들어 보았다  \n",
    "<img src=\"../images/etc/temp_tensor.png\" width=\"500\" height=\"300\">  \n",
    "3Channel Tensor이고, 각 channel의 같은 x,y에는 같은 값이 들어있다  \n"
   ]
  },
  {
   "cell_type": "code",
   "execution_count": 97,
   "metadata": {},
   "outputs": [],
   "source": [
    "temp_input = torch.tensor([[1, 2, 3],[4, 5, 6], [7, 8, 9]])\n",
    "temp_input = temp_input.reshape(1, 1, 3, 3).repeat(1,3,1,1)"
   ]
  },
  {
   "cell_type": "code",
   "execution_count": 98,
   "metadata": {},
   "outputs": [
    {
     "data": {
      "text/plain": [
       "tensor([[[[1, 2, 3],\n",
       "          [4, 5, 6],\n",
       "          [7, 8, 9]],\n",
       "\n",
       "         [[1, 2, 3],\n",
       "          [4, 5, 6],\n",
       "          [7, 8, 9]],\n",
       "\n",
       "         [[1, 2, 3],\n",
       "          [4, 5, 6],\n",
       "          [7, 8, 9]]]])"
      ]
     },
     "execution_count": 98,
     "metadata": {},
     "output_type": "execute_result"
    }
   ],
   "source": [
    "temp_input"
   ]
  },
  {
   "cell_type": "code",
   "execution_count": 101,
   "metadata": {},
   "outputs": [
    {
     "data": {
      "text/plain": [
       "tensor([[[[1., 1.],\n",
       "          [0., 0.],\n",
       "          [0., 0.]],\n",
       "\n",
       "         [[0., 0.],\n",
       "          [0., 0.],\n",
       "          [0., 0.]],\n",
       "\n",
       "         [[0., 0.],\n",
       "          [0., 0.],\n",
       "          [0., 0.]]]])"
      ]
     },
     "execution_count": 101,
     "metadata": {},
     "output_type": "execute_result"
    }
   ],
   "source": [
    "grid = torch.zeros((1,3,3,2))\n",
    "#0,0자리에 값을 가져올 위치의 x를 가장 Right의 위치로 설정\n",
    "grid[:,0,0,0] = 1\n",
    "#0,0자리에 값을 가져올 위치의 y를 가장 Bottom의 위치로 설정\n",
    "grid[:,0,0,1] = 1\n",
    "grid"
   ]
  },
  {
   "cell_type": "markdown",
   "metadata": {},
   "source": [
    "0,0에 자리하게 될 값은 1,1에 위치한 즉, 가장 right bottom에 위치한 9,9,9의 값을 가져오게 된다  \n",
    "나머지는 0,0에 에 위치한, source image에서 정중앙에 위치한 5의 값을 가져오게 된다  \n",
    "channel이 늘어나도 해당 자리의 값들을 쏙쏙 뽑아다가 자리에 둔다고 생각하면 됨!  "
   ]
  },
  {
   "cell_type": "code",
   "execution_count": 102,
   "metadata": {},
   "outputs": [],
   "source": [
    "warp = F.grid_sample(temp_input.float(), grid, align_corners=True)"
   ]
  },
  {
   "cell_type": "code",
   "execution_count": 103,
   "metadata": {},
   "outputs": [
    {
     "data": {
      "text/plain": [
       "tensor([[[[9., 5., 5.],\n",
       "          [5., 5., 5.],\n",
       "          [5., 5., 5.]],\n",
       "\n",
       "         [[9., 5., 5.],\n",
       "          [5., 5., 5.],\n",
       "          [5., 5., 5.]],\n",
       "\n",
       "         [[9., 5., 5.],\n",
       "          [5., 5., 5.],\n",
       "          [5., 5., 5.]]]])"
      ]
     },
     "execution_count": 103,
     "metadata": {},
     "output_type": "execute_result"
    }
   ],
   "source": [
    "warp"
   ]
  },
  {
   "cell_type": "markdown",
   "metadata": {},
   "source": [
    "<img src=\"../images/etc/warp_tensor.png\" width=\"800\" height=\"300\">  \n"
   ]
  }
 ],
 "metadata": {
  "interpreter": {
   "hash": "a82ec9c67520d8d8366367003340c67b1755b8f934fa1115298f141d8d2f8979"
  },
  "kernelspec": {
   "display_name": "Python 3.7.12 ('pyml')",
   "language": "python",
   "name": "python3"
  },
  "language_info": {
   "codemirror_mode": {
    "name": "ipython",
    "version": 3
   },
   "file_extension": ".py",
   "mimetype": "text/x-python",
   "name": "python",
   "nbconvert_exporter": "python",
   "pygments_lexer": "ipython3",
   "version": "3.7.12"
  },
  "orig_nbformat": 4
 },
 "nbformat": 4,
 "nbformat_minor": 2
}
